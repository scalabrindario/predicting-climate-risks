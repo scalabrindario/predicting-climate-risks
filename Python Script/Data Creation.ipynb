{
 "cells": [
  {
   "cell_type": "code",
   "execution_count": 1,
   "metadata": {},
   "outputs": [
    {
     "name": "stderr",
     "output_type": "stream",
     "text": [
      "/Users/jeannefernandez/opt/anaconda3/lib/python3.8/site-packages/scipy/__init__.py:138: UserWarning: A NumPy version >=1.16.5 and <1.23.0 is required for this version of SciPy (detected version 1.23.4)\n",
      "  warnings.warn(f\"A NumPy version >={np_minversion} and <{np_maxversion} is required for this version of \"\n"
     ]
    }
   ],
   "source": [
    "# Import libraries\n",
    "import pandas as pd\n",
    "import dask.dataframe as dd"
   ]
  },
  {
   "cell_type": "code",
   "execution_count": 12,
   "metadata": {},
   "outputs": [],
   "source": [
    "# Selection of countries\n",
    "country_list = [\"Albania\",\"Algeria\", \"Angola\",\"Armenia\",\"Austria\",\"Bahrain\",\"Belarus\",\n",
    "                \"Belgium\",\"Benin\",\"Bosnia and Herzegovina\",\"Botswana\",\"Bulgaria\",\n",
    "                \"Burkina Faso\",\"Cameroon\",\"Croatia\",\"Cyprus\",\"China\",\"Czech Republic\",\n",
    "                \"Democratic Republic of Congo\",\"Denmark\",\"Djibouti\",\"Egypt\",\"Equatorial Guinea\",\n",
    "                \"Estonia\",\"Ethiopia\",\"Faroe Islands\",\"Finland\",\"France\",\"Gabon\",\"Gambia\",\"Georgia\",\n",
    "                \"Germany\",\"Ghana\",\"Greece\",\"Greenland\",\"Guam\",\"Guinea\",\"Guinea-Bissau\",\"Hungary\",\n",
    "                \"Iceland\",\"India\",\"Indonesia\"\"Iran\",\"Iraq\",\"Ireland\",\"Israel\",\"Italy\",\"Ivory Coast\",\n",
    "                \"Jordan\",\"Kenya\",\"Kuwait\",\"Latvia\",\"Lebanon\",\"Lesotho\",\"Liberia\",\"Libya\",\"Lithuania\",\n",
    "                \"Luxembourg\",\"Madagascar\",\"Madeira\",\"Malawi\",\"Mali\",\"Malta\",\"Mauritania\",\"Mauritius\",\n",
    "                \"Moldova\",\"Montenegro\",\"Morocco\",\"Mozambique\",\"Namibia\",\"Netherlands\",\"Niger\",\"Nigeria\",\n",
    "                \"North Macedonia\",\"Northern Cyprus\",\"Norway\",\"Oman\",\"Palestine\",\"Philippines\",\"Poland\",\n",
    "                \"Portugal\",\"Qatar\",\"Republic of the Congo\",\"Romania\",\"Rwanda\",\"Saudi Arabia\",\"Senegal\",\n",
    "                \"Serbia\",\"Sierra Leone\",\"Slovakia\",\"Slovenia\",\"South Africa\",\"South Korea\",\"South Sudan\",\n",
    "                \"Spain\",\"Sudan\",\"Sweden\",\"Switzerland\",\"Syria\",\"Tanzania\",\"Togo\",\"Tunisia\",\"Turkey\",\n",
    "                \"Uganda\",\"Ukraine\",\"United Arab Emirates\",\"United Kingdom\",\"Vietnam\",\"Western Sahara\",\n",
    "                \"Yemen\",\"Zambia\",\"Zimbabwe\"]"
   ]
  },
  {
   "cell_type": "code",
   "execution_count": 13,
   "metadata": {},
   "outputs": [],
   "source": [
    "# Path with all the datasets\n",
    "path = \"/Users/scalabrindario/Library/CloudStorage/OneDrive-epfl.ch/E4S/03 THIRD SEMESTER/DATA SCIENCE II/Trucost/\"\n",
    "\n",
    "# Load the dataset\n",
    "ecol = dd.read_csv(path + \"EDX_Physical_AL_ExposureScore_CPU_20221003.csv\", dtype={'ExposureScore_Drought_High_2020': 'float64', 'ExposureScore_Drought_High_2030': 'float64','ExposureScore_Drought_High_2040': 'float64', 'ExposureScore_Drought_High_2050': 'float64','ExposureScore_Drought_High_2060': 'float64','ExposureScore_Drought_High_2070': 'float64','ExposureScore_Drought_High_2080': 'float64','ExposureScore_Drought_High_2090': 'float64','ExposureScore_Drought_Low_2020': 'float64','ExposureScore_Drought_Low_2030': 'float64','ExposureScore_Drought_Low_2040': 'float64','ExposureScore_Drought_Low_2050': 'float64','ExposureScore_Drought_Low_2060': 'float64','ExposureScore_Drought_Low_2070': 'float64','ExposureScore_Drought_Low_2080': 'float64','ExposureScore_Drought_Low_2090': 'float64','ExposureScore_Drought_ModerateHigh_2020': 'float64','ExposureScore_Drought_ModerateHigh_2030': 'float64','ExposureScore_Drought_ModerateHigh_2040': 'float64','ExposureScore_Drought_ModerateHigh_2050': 'float64','ExposureScore_Drought_ModerateHigh_2060': 'float64','ExposureScore_Drought_ModerateHigh_2070': 'float64','ExposureScore_Drought_ModerateHigh_2080': 'float64','ExposureScore_Drought_ModerateHigh_2090': 'float64','ExposureScore_Drought_Moderate_2020': 'float64','ExposureScore_Drought_Moderate_2030': 'float64','ExposureScore_Drought_Moderate_2040': 'float64','ExposureScore_Drought_Moderate_2050': 'float64','ExposureScore_Drought_Moderate_2060': 'float64','ExposureScore_Drought_Moderate_2070': 'float64','ExposureScore_Drought_Moderate_2080': 'float64','ExposureScore_Drought_Moderate_2090': 'float64','ExposureScore_RiverineFlood_High_2020': 'float64','ExposureScore_RiverineFlood_High_2030': 'float64','ExposureScore_RiverineFlood_High_2040': 'float64','ExposureScore_RiverineFlood_High_2050': 'float64','ExposureScore_RiverineFlood_High_2060': 'float64','ExposureScore_RiverineFlood_High_2070': 'float64','ExposureScore_RiverineFlood_High_2080': 'float64','ExposureScore_RiverineFlood_High_2090': 'float64','ExposureScore_RiverineFlood_Low_2020': 'float64','ExposureScore_RiverineFlood_Low_2030': 'float64','ExposureScore_RiverineFlood_Low_2040': 'float64','ExposureScore_RiverineFlood_Low_2050': 'float64','ExposureScore_RiverineFlood_Low_2060': 'float64','ExposureScore_RiverineFlood_Low_2070': 'float64','ExposureScore_RiverineFlood_Low_2080': 'float64','ExposureScore_RiverineFlood_Low_2090': 'float64','ExposureScore_RiverineFlood_ModerateHigh_2020': 'float64','ExposureScore_RiverineFlood_ModerateHigh_2030': 'float64','ExposureScore_RiverineFlood_ModerateHigh_2040': 'float64','ExposureScore_RiverineFlood_ModerateHigh_2050': 'float64','ExposureScore_RiverineFlood_ModerateHigh_2060': 'float64','ExposureScore_RiverineFlood_ModerateHigh_2070': 'float64','ExposureScore_RiverineFlood_ModerateHigh_2080': 'float64','ExposureScore_RiverineFlood_ModerateHigh_2090': 'float64','ExposureScore_RiverineFlood_Moderate_2020': 'float64','ExposureScore_RiverineFlood_Moderate_2030': 'float64','ExposureScore_RiverineFlood_Moderate_2040': 'float64','ExposureScore_RiverineFlood_Moderate_2050': 'float64','ExposureScore_RiverineFlood_Moderate_2060': 'float64','ExposureScore_RiverineFlood_Moderate_2070': 'float64','ExposureScore_RiverineFlood_Moderate_2080': 'float64','ExposureScore_RiverineFlood_Moderate_2090': 'float64','ExposureScore_Wildfire_High_2020': 'float64','ExposureScore_Wildfire_High_2030': 'float64','ExposureScore_Wildfire_High_2040': 'float64','ExposureScore_Wildfire_High_2050': 'float64','ExposureScore_Wildfire_High_2060': 'float64','ExposureScore_Wildfire_High_2070': 'float64','ExposureScore_Wildfire_High_2080': 'float64','ExposureScore_Wildfire_High_2090': 'float64','ExposureScore_Wildfire_Low_2020': 'float64','ExposureScore_Wildfire_Low_2030': 'float64','ExposureScore_Wildfire_Low_2040': 'float64','ExposureScore_Wildfire_Low_2050': 'float64','ExposureScore_Wildfire_Low_2060': 'float64','ExposureScore_Wildfire_Low_2070': 'float64','ExposureScore_Wildfire_Low_2080': 'float64','ExposureScore_Wildfire_Low_2090': 'float64','ExposureScore_Wildfire_ModerateHigh_2020': 'float64','ExposureScore_Wildfire_ModerateHigh_2030': 'float64','ExposureScore_Wildfire_ModerateHigh_2040': 'float64','ExposureScore_Wildfire_ModerateHigh_2050': 'float64','ExposureScore_Wildfire_ModerateHigh_2060': 'float64','ExposureScore_Wildfire_ModerateHigh_2070': 'float64','ExposureScore_Wildfire_ModerateHigh_2080': 'float64','ExposureScore_Wildfire_ModerateHigh_2090': 'float64','ExposureScore_Wildfire_Moderate_2020': 'float64','ExposureScore_Wildfire_Moderate_2030': 'float64','ExposureScore_Wildfire_Moderate_2040': 'float64','ExposureScore_Wildfire_Moderate_2050': 'float64','ExposureScore_Wildfire_Moderate_2060': 'float64','ExposureScore_Wildfire_Moderate_2070': 'float64','ExposureScore_Wildfire_Moderate_2080': 'float64','ExposureScore_Wildfire_Moderate_2090': 'float64','Owner CIQ ID': 'float64','Ultimate Parent Trucost UID': 'float64','Ultimate Parent CIQ ID': 'float64'},low_memory = False)\n",
    "\n",
    "# Filter for corresponding assets\n",
    "ecol = ecol[ecol['Country'].isin(country_list)].compute()\n",
    "\n",
    "# Keep only given columns\n",
    "df = ecol[[\"Ultimate Parent Name\", \"Country\", \"Ultimate Parent ISIN\", \"Latitude\",\"Longitude\",\"ExposureScore_Composite_ModerateHigh_2020\",\"ExposureScore_Composite_ModerateHigh_2030\",\"ExposureScore_Composite_ModerateHigh_2040\",\"ExposureScore_Composite_ModerateHigh_2050\",\"ExposureScore_Composite_ModerateHigh_2060\",\"ExposureScore_Composite_ModerateHigh_2070\",\"ExposureScore_Composite_ModerateHigh_2080\",\"ExposureScore_Composite_ModerateHigh_2090\"]]\n",
    "\n",
    "# Export the full dataset\n",
    "df.to_csv(\"dataset.csv\")\n",
    "\n",
    "# Export a random sample of size 2000\n",
    "df_red = df.sample(2000)\n",
    "df_red.to_csv(\"dataset_sample.csv\")"
   ]
  },
  {
   "cell_type": "markdown",
   "metadata": {},
   "source": [
    "### Company Information"
   ]
  },
  {
   "cell_type": "code",
   "execution_count": 14,
   "metadata": {},
   "outputs": [],
   "source": [
    "# Load dataset containing environmental information of companies\n",
    "df_company = dd.read_csv(path + \"EDX_032_Env_CPUCU_AllYr_20221009.csv\",\n",
    "                        dtype = {'Land and Water Pollutants-Direct (USD mn)': 'float64','Land and Water Pollutants-Direct Impact Ratio (%)': 'float64', 'Natural Resource Use-Direct (USD mn)': 'float64', 'Natural Resource Use-Direct Impact Ratio (%)': 'float64', 'Water-Direct (USD mn)': 'float64','Water-Direct Impact Ratio (%)': 'float64','GICS Industry Code': 'float64','GICS Industry Group Code': 'float64','GICS Sector Code': 'float64','GICS Sub Industry Code': 'float64'}) \n",
    "# Keep the only the same country\n",
    "df_company = df_company[df_company['Country'].isin([x.upper() for x in country_list])].compute()\n",
    "\n",
    "# Keep the only last financial year\n",
    "df_company = df_company.loc[df_company['Financial Year'] == 2020]\n",
    "\n",
    "# Keep only certain columns\n",
    "df_company = df_company[['TCUID', 'Company', 'Country', 'ISIN','GICS Sector Name','Carbon-Scope 1  (tonnes CO2e)','Carbon-Scope 2  (tonnes CO2e)','Carbon-Scope 3 (tonnes CO2e)','Carbon Intensity-Scope 1 (tonnes CO2e/USD mn)','Carbon Intensity-Scope 2 (tonnes CO2e/USD mn)','Carbon Intensity-Scope 3 (tonnes CO2e/USD mn)','Carbon Disclosure','Revenue (USD mn)']]\n",
    "\n",
    "# Export the dataset\n",
    "df_company.to_csv(\"company_information.csv\")"
   ]
  },
  {
   "cell_type": "code",
   "execution_count": null,
   "metadata": {},
   "outputs": [],
   "source": []
  }
 ],
 "metadata": {
  "kernelspec": {
   "display_name": "Python 3",
   "language": "python",
   "name": "python3"
  },
  "language_info": {
   "codemirror_mode": {
    "name": "ipython",
    "version": 3
   },
   "file_extension": ".py",
   "mimetype": "text/x-python",
   "name": "python",
   "nbconvert_exporter": "python",
   "pygments_lexer": "ipython3",
   "version": "3.8.3"
  }
 },
 "nbformat": 4,
 "nbformat_minor": 4
}
