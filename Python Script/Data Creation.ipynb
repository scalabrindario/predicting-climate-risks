{
 "cells": [
  {
   "cell_type": "code",
   "execution_count": 1,
   "metadata": {},
   "outputs": [],
   "source": [
    "# Import libraries\n",
    "import pandas as pd\n",
    "import dask.dataframe as dd\n",
    "import requests\n",
    "Country = \"China\"\n",
    "# Path with all the datasets\n",
    "path = \"/Users/scalabrindario/Library/CloudStorage/OneDrive-epfl.ch/E4S/03 THIRD SEMESTER/DATA SCIENCE II/Trucost/\""
   ]
  },
  {
   "cell_type": "code",
   "execution_count": 2,
   "metadata": {},
   "outputs": [],
   "source": [
    "# Load the dataset\n",
    "ecol = dd.read_csv(path + \"EDX_Physical_AL_ExposureScore_CPU_20221003.csv\", dtype={'ExposureScore_Drought_High_2020': 'float64', 'ExposureScore_Drought_High_2030': 'float64','ExposureScore_Drought_High_2040': 'float64', 'ExposureScore_Drought_High_2050': 'float64','ExposureScore_Drought_High_2060': 'float64','ExposureScore_Drought_High_2070': 'float64','ExposureScore_Drought_High_2080': 'float64','ExposureScore_Drought_High_2090': 'float64','ExposureScore_Drought_Low_2020': 'float64','ExposureScore_Drought_Low_2030': 'float64','ExposureScore_Drought_Low_2040': 'float64','ExposureScore_Drought_Low_2050': 'float64','ExposureScore_Drought_Low_2060': 'float64','ExposureScore_Drought_Low_2070': 'float64','ExposureScore_Drought_Low_2080': 'float64','ExposureScore_Drought_Low_2090': 'float64','ExposureScore_Drought_ModerateHigh_2020': 'float64','ExposureScore_Drought_ModerateHigh_2030': 'float64','ExposureScore_Drought_ModerateHigh_2040': 'float64','ExposureScore_Drought_ModerateHigh_2050': 'float64','ExposureScore_Drought_ModerateHigh_2060': 'float64','ExposureScore_Drought_ModerateHigh_2070': 'float64','ExposureScore_Drought_ModerateHigh_2080': 'float64','ExposureScore_Drought_ModerateHigh_2090': 'float64','ExposureScore_Drought_Moderate_2020': 'float64','ExposureScore_Drought_Moderate_2030': 'float64','ExposureScore_Drought_Moderate_2040': 'float64','ExposureScore_Drought_Moderate_2050': 'float64','ExposureScore_Drought_Moderate_2060': 'float64','ExposureScore_Drought_Moderate_2070': 'float64','ExposureScore_Drought_Moderate_2080': 'float64','ExposureScore_Drought_Moderate_2090': 'float64','ExposureScore_RiverineFlood_High_2020': 'float64','ExposureScore_RiverineFlood_High_2030': 'float64','ExposureScore_RiverineFlood_High_2040': 'float64','ExposureScore_RiverineFlood_High_2050': 'float64','ExposureScore_RiverineFlood_High_2060': 'float64','ExposureScore_RiverineFlood_High_2070': 'float64','ExposureScore_RiverineFlood_High_2080': 'float64','ExposureScore_RiverineFlood_High_2090': 'float64','ExposureScore_RiverineFlood_Low_2020': 'float64','ExposureScore_RiverineFlood_Low_2030': 'float64','ExposureScore_RiverineFlood_Low_2040': 'float64','ExposureScore_RiverineFlood_Low_2050': 'float64','ExposureScore_RiverineFlood_Low_2060': 'float64','ExposureScore_RiverineFlood_Low_2070': 'float64','ExposureScore_RiverineFlood_Low_2080': 'float64','ExposureScore_RiverineFlood_Low_2090': 'float64','ExposureScore_RiverineFlood_ModerateHigh_2020': 'float64','ExposureScore_RiverineFlood_ModerateHigh_2030': 'float64','ExposureScore_RiverineFlood_ModerateHigh_2040': 'float64','ExposureScore_RiverineFlood_ModerateHigh_2050': 'float64','ExposureScore_RiverineFlood_ModerateHigh_2060': 'float64','ExposureScore_RiverineFlood_ModerateHigh_2070': 'float64','ExposureScore_RiverineFlood_ModerateHigh_2080': 'float64','ExposureScore_RiverineFlood_ModerateHigh_2090': 'float64','ExposureScore_RiverineFlood_Moderate_2020': 'float64','ExposureScore_RiverineFlood_Moderate_2030': 'float64','ExposureScore_RiverineFlood_Moderate_2040': 'float64','ExposureScore_RiverineFlood_Moderate_2050': 'float64','ExposureScore_RiverineFlood_Moderate_2060': 'float64','ExposureScore_RiverineFlood_Moderate_2070': 'float64','ExposureScore_RiverineFlood_Moderate_2080': 'float64','ExposureScore_RiverineFlood_Moderate_2090': 'float64','ExposureScore_Wildfire_High_2020': 'float64','ExposureScore_Wildfire_High_2030': 'float64','ExposureScore_Wildfire_High_2040': 'float64','ExposureScore_Wildfire_High_2050': 'float64','ExposureScore_Wildfire_High_2060': 'float64','ExposureScore_Wildfire_High_2070': 'float64','ExposureScore_Wildfire_High_2080': 'float64','ExposureScore_Wildfire_High_2090': 'float64','ExposureScore_Wildfire_Low_2020': 'float64','ExposureScore_Wildfire_Low_2030': 'float64','ExposureScore_Wildfire_Low_2040': 'float64','ExposureScore_Wildfire_Low_2050': 'float64','ExposureScore_Wildfire_Low_2060': 'float64','ExposureScore_Wildfire_Low_2070': 'float64','ExposureScore_Wildfire_Low_2080': 'float64','ExposureScore_Wildfire_Low_2090': 'float64','ExposureScore_Wildfire_ModerateHigh_2020': 'float64','ExposureScore_Wildfire_ModerateHigh_2030': 'float64','ExposureScore_Wildfire_ModerateHigh_2040': 'float64','ExposureScore_Wildfire_ModerateHigh_2050': 'float64','ExposureScore_Wildfire_ModerateHigh_2060': 'float64','ExposureScore_Wildfire_ModerateHigh_2070': 'float64','ExposureScore_Wildfire_ModerateHigh_2080': 'float64','ExposureScore_Wildfire_ModerateHigh_2090': 'float64','ExposureScore_Wildfire_Moderate_2020': 'float64','ExposureScore_Wildfire_Moderate_2030': 'float64','ExposureScore_Wildfire_Moderate_2040': 'float64','ExposureScore_Wildfire_Moderate_2050': 'float64','ExposureScore_Wildfire_Moderate_2060': 'float64','ExposureScore_Wildfire_Moderate_2070': 'float64','ExposureScore_Wildfire_Moderate_2080': 'float64','ExposureScore_Wildfire_Moderate_2090': 'float64','Owner CIQ ID': 'float64','Ultimate Parent Trucost UID': 'float64','Ultimate Parent CIQ ID': 'float64'},low_memory = False)"
   ]
  },
  {
   "cell_type": "code",
   "execution_count": 3,
   "metadata": {
    "scrolled": true
   },
   "outputs": [
    {
     "name": "stderr",
     "output_type": "stream",
     "text": [
      "<ipython-input-3-692cedbdf9b6>:33: SettingWithCopyWarning: \n",
      "A value is trying to be set on a copy of a slice from a DataFrame.\n",
      "Try using .loc[row_indexer,col_indexer] = value instead\n",
      "\n",
      "See the caveats in the documentation: https://pandas.pydata.org/pandas-docs/stable/user_guide/indexing.html#returning-a-view-versus-a-copy\n",
      "  df[\"elevation\"] = list_elevation\n"
     ]
    }
   ],
   "source": [
    "# Filter only for Chinese assets\n",
    "ecol_china = ecol.loc[ecol['Country'] == \"China\"].compute()\n",
    "df = ecol_china[[\"Ultimate Parent Name\", \"Ultimate Parent ISIN\", \"Asset ID\", \"Latitude\",\"Longitude\",\"Activity Description\",\"ExposureScore_Composite_ModerateHigh_2020\",\"ExposureScore_Composite_ModerateHigh_2030\",\"ExposureScore_Composite_ModerateHigh_2040\",\"ExposureScore_Composite_ModerateHigh_2050\",\"ExposureScore_Composite_ModerateHigh_2060\",\"ExposureScore_Composite_ModerateHigh_2070\",\"ExposureScore_Composite_ModerateHigh_2080\",\"ExposureScore_Composite_ModerateHigh_2090\"]]\n",
    "\n",
    "list_location = []\n",
    "list_elevation = []\n",
    "c = 0\n",
    "\n",
    "for lat, lon in zip(df[\"Latitude\"], df[\"Longitude\"]):\n",
    "    c += 1\n",
    "    dict_location = {}\n",
    "    dict_location.update({\"latitude\": lat})\n",
    "    dict_location.update({\"longitude\": lon})\n",
    "    list_location.append(dict_location)\n",
    "    \n",
    "    if c == 1000:\n",
    "        url = 'https://api.open-elevation.com/api/v1/lookup'\n",
    "        myobj = {\"locations\": list_location}\n",
    "        x = requests.post(url, json = myobj)\n",
    "\n",
    "        list_location = []\n",
    "        c = 0\n",
    "        \n",
    "        for i in range(len(x.json()['results'])):\n",
    "            list_elevation.append(x.json()['results'][i][\"elevation\"])\n",
    "\n",
    "url = 'https://api.open-elevation.com/api/v1/lookup'\n",
    "myobj = {\"locations\": list_location}\n",
    "x = requests.post(url, json = myobj)\n",
    "for i in range(len(x.json()['results'])):\n",
    "            list_elevation.append(x.json()['results'][i][\"elevation\"])\n",
    "        \n",
    "df[\"elevation\"] = list_elevation\n",
    "\n",
    "# Export the dataset\n",
    "df.to_csv(\"dataset.csv\")\n",
    "df_red = df.sample(2000)\n",
    "df_red.to_csv(\"dataset_sample.csv\")"
   ]
  },
  {
   "cell_type": "markdown",
   "metadata": {},
   "source": [
    "### Company Information"
   ]
  },
  {
   "cell_type": "code",
   "execution_count": 4,
   "metadata": {},
   "outputs": [],
   "source": [
    "df_company = dd.read_csv(path + \"EDX_032_Env_CPUCU_AllYr_20221009.csv\",\n",
    "                        dtype = {'Land and Water Pollutants-Direct (USD mn)': 'float64','Land and Water Pollutants-Direct Impact Ratio (%)': 'float64',                       'Natural Resource Use-Direct (USD mn)': 'float64', 'Natural Resource Use-Direct Impact Ratio (%)': 'float64', 'Water-Direct (USD mn)': 'float64','Water-Direct Impact Ratio (%)': 'float64','GICS Industry Code': 'float64','GICS Industry Group Code': 'float64','GICS Sector Code': 'float64','GICS Sub Industry Code': 'float64'}) \n",
    "# Keep the only the same country\n",
    "df_company = df_company.loc[df_company['Country'] == Country.upper()].compute()\n",
    "# Keep the only last financial year\n",
    "df_company = df_company.loc[df_company['Financial Year'] == 2020]\n",
    "\n",
    "# Keep only certain companies\n",
    "df_company = df_company[['TCUID', 'Company', 'ISIN','GICS Sector Name','Carbon-Scope 1  (tonnes CO2e)','Carbon-Scope 2  (tonnes CO2e)','Carbon-Scope 3 (tonnes CO2e)','Carbon Intensity-Scope 1 (tonnes CO2e/USD mn)','Carbon Intensity-Scope 2 (tonnes CO2e/USD mn)','Carbon Intensity-Scope 3 (tonnes CO2e/USD mn)','Carbon Disclosure','Revenue (USD mn)']]\n",
    "\n",
    "\n",
    "# Export the dataset\n",
    "df_company.to_csv(\"company_information.csv\")"
   ]
  }
 ],
 "metadata": {
  "kernelspec": {
   "display_name": "Python 3",
   "language": "python",
   "name": "python3"
  },
  "language_info": {
   "codemirror_mode": {
    "name": "ipython",
    "version": 3
   },
   "file_extension": ".py",
   "mimetype": "text/x-python",
   "name": "python",
   "nbconvert_exporter": "python",
   "pygments_lexer": "ipython3",
   "version": "3.8.3"
  }
 },
 "nbformat": 4,
 "nbformat_minor": 4
}
