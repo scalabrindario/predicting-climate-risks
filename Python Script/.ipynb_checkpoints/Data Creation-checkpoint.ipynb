{
 "cells": [
  {
   "cell_type": "code",
   "execution_count": 13,
   "metadata": {},
   "outputs": [],
   "source": [
    "# Import libraries\n",
    "import pandas as pd\n",
    "import dask.dataframe as dd"
   ]
  },
  {
   "cell_type": "code",
   "execution_count": 14,
   "metadata": {},
   "outputs": [],
   "source": [
    "# Path with all the datasets\n",
    "path = \"/Users/scalabrindario/Library/CloudStorage/OneDrive-epfl.ch/E4S/03 THIRD SEMESTER/DATA SCIENCE II/Trucost/\"\n",
    "\n",
    "# List of EU Countries\n",
    "country_list = [\"Austria\", \"Albania\", \"Belgium\", \"Bulgaria\", \"Croatia\", \"Cyprus\",\n",
    "                \"Northern Cyprus\", \"Czech Republic\", \"Denmark\", \"Estonia\", \"Finland\",\n",
    "                \"France\", \"Germany\", \"Greece\", \"Hungary\", \"Iceland\", \"Ireland\",\n",
    "                \"Italy\", \"Latvia\", \"Lithuania\", \"Luxembourg\", \"Malta\", \"Netherlands\",\n",
    "                \"Norway\", \"Belarus\", \"Poland\", \"Portugal\",\"Romania\",\"Serbia\",\n",
    "                \"Slovakia\", \"Slovenia\", \"Spain\", \"Sweden\", \"Switzerland\",\n",
    "                \"United Kingdom\", \"North Macedonia\", \"Bosnia and Herzegovina\",\n",
    "                \"Faroe Islands\", \"Ukraine\", \"Moldova\", \"Montenegro\"]\n",
    "               \n",
    "# Load the dataset\n",
    "ecol = dd.read_csv(path + \"EDX_Physical_AL_ExposureScore_CPU_20221003.csv\", dtype={'ExposureScore_Drought_High_2020': 'float64', 'ExposureScore_Drought_High_2030': 'float64','ExposureScore_Drought_High_2040': 'float64', 'ExposureScore_Drought_High_2050': 'float64','ExposureScore_Drought_High_2060': 'float64','ExposureScore_Drought_High_2070': 'float64','ExposureScore_Drought_High_2080': 'float64','ExposureScore_Drought_High_2090': 'float64','ExposureScore_Drought_Low_2020': 'float64','ExposureScore_Drought_Low_2030': 'float64','ExposureScore_Drought_Low_2040': 'float64','ExposureScore_Drought_Low_2050': 'float64','ExposureScore_Drought_Low_2060': 'float64','ExposureScore_Drought_Low_2070': 'float64','ExposureScore_Drought_Low_2080': 'float64','ExposureScore_Drought_Low_2090': 'float64','ExposureScore_Drought_ModerateHigh_2020': 'float64','ExposureScore_Drought_ModerateHigh_2030': 'float64','ExposureScore_Drought_ModerateHigh_2040': 'float64','ExposureScore_Drought_ModerateHigh_2050': 'float64','ExposureScore_Drought_ModerateHigh_2060': 'float64','ExposureScore_Drought_ModerateHigh_2070': 'float64','ExposureScore_Drought_ModerateHigh_2080': 'float64','ExposureScore_Drought_ModerateHigh_2090': 'float64','ExposureScore_Drought_Moderate_2020': 'float64','ExposureScore_Drought_Moderate_2030': 'float64','ExposureScore_Drought_Moderate_2040': 'float64','ExposureScore_Drought_Moderate_2050': 'float64','ExposureScore_Drought_Moderate_2060': 'float64','ExposureScore_Drought_Moderate_2070': 'float64','ExposureScore_Drought_Moderate_2080': 'float64','ExposureScore_Drought_Moderate_2090': 'float64','ExposureScore_RiverineFlood_High_2020': 'float64','ExposureScore_RiverineFlood_High_2030': 'float64','ExposureScore_RiverineFlood_High_2040': 'float64','ExposureScore_RiverineFlood_High_2050': 'float64','ExposureScore_RiverineFlood_High_2060': 'float64','ExposureScore_RiverineFlood_High_2070': 'float64','ExposureScore_RiverineFlood_High_2080': 'float64','ExposureScore_RiverineFlood_High_2090': 'float64','ExposureScore_RiverineFlood_Low_2020': 'float64','ExposureScore_RiverineFlood_Low_2030': 'float64','ExposureScore_RiverineFlood_Low_2040': 'float64','ExposureScore_RiverineFlood_Low_2050': 'float64','ExposureScore_RiverineFlood_Low_2060': 'float64','ExposureScore_RiverineFlood_Low_2070': 'float64','ExposureScore_RiverineFlood_Low_2080': 'float64','ExposureScore_RiverineFlood_Low_2090': 'float64','ExposureScore_RiverineFlood_ModerateHigh_2020': 'float64','ExposureScore_RiverineFlood_ModerateHigh_2030': 'float64','ExposureScore_RiverineFlood_ModerateHigh_2040': 'float64','ExposureScore_RiverineFlood_ModerateHigh_2050': 'float64','ExposureScore_RiverineFlood_ModerateHigh_2060': 'float64','ExposureScore_RiverineFlood_ModerateHigh_2070': 'float64','ExposureScore_RiverineFlood_ModerateHigh_2080': 'float64','ExposureScore_RiverineFlood_ModerateHigh_2090': 'float64','ExposureScore_RiverineFlood_Moderate_2020': 'float64','ExposureScore_RiverineFlood_Moderate_2030': 'float64','ExposureScore_RiverineFlood_Moderate_2040': 'float64','ExposureScore_RiverineFlood_Moderate_2050': 'float64','ExposureScore_RiverineFlood_Moderate_2060': 'float64','ExposureScore_RiverineFlood_Moderate_2070': 'float64','ExposureScore_RiverineFlood_Moderate_2080': 'float64','ExposureScore_RiverineFlood_Moderate_2090': 'float64','ExposureScore_Wildfire_High_2020': 'float64','ExposureScore_Wildfire_High_2030': 'float64','ExposureScore_Wildfire_High_2040': 'float64','ExposureScore_Wildfire_High_2050': 'float64','ExposureScore_Wildfire_High_2060': 'float64','ExposureScore_Wildfire_High_2070': 'float64','ExposureScore_Wildfire_High_2080': 'float64','ExposureScore_Wildfire_High_2090': 'float64','ExposureScore_Wildfire_Low_2020': 'float64','ExposureScore_Wildfire_Low_2030': 'float64','ExposureScore_Wildfire_Low_2040': 'float64','ExposureScore_Wildfire_Low_2050': 'float64','ExposureScore_Wildfire_Low_2060': 'float64','ExposureScore_Wildfire_Low_2070': 'float64','ExposureScore_Wildfire_Low_2080': 'float64','ExposureScore_Wildfire_Low_2090': 'float64','ExposureScore_Wildfire_ModerateHigh_2020': 'float64','ExposureScore_Wildfire_ModerateHigh_2030': 'float64','ExposureScore_Wildfire_ModerateHigh_2040': 'float64','ExposureScore_Wildfire_ModerateHigh_2050': 'float64','ExposureScore_Wildfire_ModerateHigh_2060': 'float64','ExposureScore_Wildfire_ModerateHigh_2070': 'float64','ExposureScore_Wildfire_ModerateHigh_2080': 'float64','ExposureScore_Wildfire_ModerateHigh_2090': 'float64','ExposureScore_Wildfire_Moderate_2020': 'float64','ExposureScore_Wildfire_Moderate_2030': 'float64','ExposureScore_Wildfire_Moderate_2040': 'float64','ExposureScore_Wildfire_Moderate_2050': 'float64','ExposureScore_Wildfire_Moderate_2060': 'float64','ExposureScore_Wildfire_Moderate_2070': 'float64','ExposureScore_Wildfire_Moderate_2080': 'float64','ExposureScore_Wildfire_Moderate_2090': 'float64','Owner CIQ ID': 'float64','Ultimate Parent Trucost UID': 'float64','Ultimate Parent CIQ ID': 'float64'},low_memory = False)\n",
    "\n",
    "# Filter only for EU assets\n",
    "ecol = ecol[ecol['Country'].isin(country_list)].compute()\n",
    "\n",
    "df = ecol[[\"Ultimate Parent Name\", \"Country\", \"Ultimate Parent ISIN\", \"Latitude\",\"Longitude\",\"ExposureScore_Composite_ModerateHigh_2020\",\"ExposureScore_Composite_ModerateHigh_2030\",\"ExposureScore_Composite_ModerateHigh_2040\",\"ExposureScore_Composite_ModerateHigh_2050\",\"ExposureScore_Composite_ModerateHigh_2060\",\"ExposureScore_Composite_ModerateHigh_2070\",\"ExposureScore_Composite_ModerateHigh_2080\",\"ExposureScore_Composite_ModerateHigh_2090\"]]\n",
    "\n",
    "# Export the dataset\n",
    "df.to_csv(\"dataset.csv\")\n",
    "df_red = df.sample(2000)\n",
    "df_red.to_csv(\"dataset_sample.csv\")"
   ]
  },
  {
   "cell_type": "markdown",
   "metadata": {},
   "source": [
    "### Company Information"
   ]
  },
  {
   "cell_type": "code",
   "execution_count": 16,
   "metadata": {},
   "outputs": [],
   "source": [
    "df_company = dd.read_csv(path + \"EDX_032_Env_CPUCU_AllYr_20221009.csv\",\n",
    "                        dtype = {'Land and Water Pollutants-Direct (USD mn)': 'float64','Land and Water Pollutants-Direct Impact Ratio (%)': 'float64', 'Natural Resource Use-Direct (USD mn)': 'float64', 'Natural Resource Use-Direct Impact Ratio (%)': 'float64', 'Water-Direct (USD mn)': 'float64','Water-Direct Impact Ratio (%)': 'float64','GICS Industry Code': 'float64','GICS Industry Group Code': 'float64','GICS Sector Code': 'float64','GICS Sub Industry Code': 'float64'}) \n",
    "# Keep the only the same country\n",
    "df_company = df_company[df_company['Country'].isin([x.upper() for x in country_list])].compute()\n",
    "\n",
    "# Keep the only last financial year\n",
    "df_company = df_company.loc[df_company['Financial Year'] == 2020]\n",
    "\n",
    "# Keep only certain companies\n",
    "df_company = df_company[['TCUID', 'Company', 'Country', 'ISIN','GICS Sector Name','Carbon-Scope 1  (tonnes CO2e)','Carbon-Scope 2  (tonnes CO2e)','Carbon-Scope 3 (tonnes CO2e)','Carbon Intensity-Scope 1 (tonnes CO2e/USD mn)','Carbon Intensity-Scope 2 (tonnes CO2e/USD mn)','Carbon Intensity-Scope 3 (tonnes CO2e/USD mn)','Carbon Disclosure','Revenue (USD mn)']]\n",
    "\n",
    "# Export the dataset\n",
    "df_company.to_csv(\"company_information.csv\")"
   ]
  }
 ],
 "metadata": {
  "kernelspec": {
   "display_name": "Python 3",
   "language": "python",
   "name": "python3"
  },
  "language_info": {
   "codemirror_mode": {
    "name": "ipython",
    "version": 3
   },
   "file_extension": ".py",
   "mimetype": "text/x-python",
   "name": "python",
   "nbconvert_exporter": "python",
   "pygments_lexer": "ipython3",
   "version": "3.8.3"
  }
 },
 "nbformat": 4,
 "nbformat_minor": 4
}
